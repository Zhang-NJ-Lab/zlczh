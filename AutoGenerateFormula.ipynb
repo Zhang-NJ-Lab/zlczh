{
 "cells": [
  {
   "cell_type": "code",
   "execution_count": 1,
   "id": "019647b7-367f-4df7-82f5-67c323ffa058",
   "metadata": {},
   "outputs": [
    {
     "name": "stdout",
     "output_type": "stream",
     "text": [
      "Looking in indexes: https://pypi.tuna.tsinghua.edu.cn/simple\n",
      "Requirement already satisfied: zlczh in d:\\programdata\\anaconda3\\envs\\py37\\lib\\site-packages (0.0.1)\n"
     ]
    },
    {
     "name": "stderr",
     "output_type": "stream",
     "text": [
      "WARNING: Ignoring invalid distribution -5py (d:\\programdata\\anaconda3\\envs\\py37\\lib\\site-packages)\n",
      "WARNING: Ignoring invalid distribution -ymupdf (d:\\programdata\\anaconda3\\envs\\py37\\lib\\site-packages)\n",
      "WARNING: Ignoring invalid distribution -cikit-learn (d:\\programdata\\anaconda3\\envs\\py37\\lib\\site-packages)\n",
      "WARNING: Ignoring invalid distribution -5py (d:\\programdata\\anaconda3\\envs\\py37\\lib\\site-packages)\n",
      "WARNING: Ignoring invalid distribution -ymupdf (d:\\programdata\\anaconda3\\envs\\py37\\lib\\site-packages)\n",
      "WARNING: Ignoring invalid distribution -cikit-learn (d:\\programdata\\anaconda3\\envs\\py37\\lib\\site-packages)\n",
      "WARNING: Ignoring invalid distribution -5py (d:\\programdata\\anaconda3\\envs\\py37\\lib\\site-packages)\n",
      "WARNING: Ignoring invalid distribution -ymupdf (d:\\programdata\\anaconda3\\envs\\py37\\lib\\site-packages)\n",
      "WARNING: Ignoring invalid distribution -cikit-learn (d:\\programdata\\anaconda3\\envs\\py37\\lib\\site-packages)\n",
      "WARNING: Ignoring invalid distribution -5py (d:\\programdata\\anaconda3\\envs\\py37\\lib\\site-packages)\n",
      "WARNING: Ignoring invalid distribution -ymupdf (d:\\programdata\\anaconda3\\envs\\py37\\lib\\site-packages)\n",
      "WARNING: Ignoring invalid distribution -cikit-learn (d:\\programdata\\anaconda3\\envs\\py37\\lib\\site-packages)\n",
      "WARNING: Ignoring invalid distribution -5py (d:\\programdata\\anaconda3\\envs\\py37\\lib\\site-packages)\n",
      "WARNING: Ignoring invalid distribution -ymupdf (d:\\programdata\\anaconda3\\envs\\py37\\lib\\site-packages)\n",
      "WARNING: Ignoring invalid distribution -cikit-learn (d:\\programdata\\anaconda3\\envs\\py37\\lib\\site-packages)\n",
      "WARNING: Ignoring invalid distribution -5py (d:\\programdata\\anaconda3\\envs\\py37\\lib\\site-packages)\n",
      "WARNING: Ignoring invalid distribution -ymupdf (d:\\programdata\\anaconda3\\envs\\py37\\lib\\site-packages)\n",
      "WARNING: Ignoring invalid distribution -cikit-learn (d:\\programdata\\anaconda3\\envs\\py37\\lib\\site-packages)\n"
     ]
    }
   ],
   "source": [
    "!pip install zlczh"
   ]
  },
  {
   "cell_type": "code",
   "execution_count": 2,
   "id": "7dcbabe3-f57d-4c75-bb88-9acdfda135c8",
   "metadata": {},
   "outputs": [],
   "source": [
    "from zlczh import autoin as pc"
   ]
  },
  {
   "cell_type": "code",
   "execution_count": 3,
   "id": "62680fa2-1c45-4d80-b026-95f3a0afa719",
   "metadata": {},
   "outputs": [
    {
     "name": "stdout",
     "output_type": "stream",
     "text": [
      "A位组合总样本： ['K', 'Rb']\n",
      "A位样本总数为： ['K', 'Rb', 'K,Rb']\n",
      "B位组合总样本： ['Pb', 'Sn']\n",
      "B位样本总数为： ['Pb', 'Sn', 'Pb,Sn']\n",
      "C位组合总样本： ['Cl', 'Br']\n",
      "C位样本总数为： ['Cl', 'Br', 'Cl,Br']\n"
     ]
    }
   ],
   "source": [
    "a = ['K','Rb']#'Sc','MA','FA','CA','GU','PEA'\n",
    "b = ['Pb','Sn']#,'Bi'\n",
    "c = ['Cl','Br']#,'I'\n",
    "pc.predictioinclass(a,b,c,0.1,\"outt.csv\")"
   ]
  },
  {
   "cell_type": "code",
   "execution_count": null,
   "id": "12b727ec-50dd-4e44-b13a-e45501fa0eaf",
   "metadata": {},
   "outputs": [],
   "source": []
  }
 ],
 "metadata": {
  "kernelspec": {
   "display_name": "Python [conda env:py37]",
   "language": "python",
   "name": "conda-env-py37-py"
  },
  "language_info": {
   "codemirror_mode": {
    "name": "ipython",
    "version": 3
   },
   "file_extension": ".py",
   "mimetype": "text/x-python",
   "name": "python",
   "nbconvert_exporter": "python",
   "pygments_lexer": "ipython3",
   "version": "3.7.0"
  }
 },
 "nbformat": 4,
 "nbformat_minor": 5
}
